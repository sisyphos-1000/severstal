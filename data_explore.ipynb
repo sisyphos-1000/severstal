{
 "cells": [
  {
   "cell_type": "markdown",
   "id": "68afd187",
   "metadata": {},
   "source": [
    "# Steel Challange Data Prep"
   ]
  },
  {
   "cell_type": "code",
   "execution_count": null,
   "id": "962de194",
   "metadata": {},
   "outputs": [],
   "source": [
    "import torch\n",
    "from torch import nn\n",
    "from torchvision import models,transforms\n",
    "from torch.utils.data import Dataset,DataLoader\n",
    "\n",
    "from torchmetrics import IoU\n",
    "import  torchmetrics\n",
    "from torch import optim\n",
    "import numpy as np\n",
    "from matplotlib import pyplot as plt\n",
    "import seaborn as sns\n",
    "import pandas as pd\n",
    "import os\n",
    "from tqdm import tqdm\n",
    "import importlib\n",
    "import nbimporter\n",
    "from colordict import ColorDict\n",
    "import random\n",
    "\n",
    "from __future__ import print_function\n",
    "from ipywidgets import interact, interactive, fixed, interact_manual\n",
    "import ipywidgets as widgets\n",
    "\n",
    "\n",
    "torch.manual_seed(0)\n",
    "\n"
   ]
  },
  {
   "cell_type": "markdown",
   "id": "4ceb0d88",
   "metadata": {},
   "source": [
    "import importlib\n",
    "import nbimporter\n",
    "import segmentation_utils_nb as utils\n",
    "importlib.reload(utils)\n",
    "## Custom Modules "
   ]
  },
  {
   "cell_type": "code",
   "execution_count": null,
   "id": "dd20a161-63bc-4899-bfc0-8acab0682418",
   "metadata": {},
   "outputs": [],
   "source": [
    "\n",
    "import segmentation_utils_nb as utils\n",
    "importlib.reload(utils)\n"
   ]
  },
  {
   "cell_type": "markdown",
   "id": "d698c4c4-e885-4694-b18c-36060fdf9b60",
   "metadata": {},
   "source": [
    "### Clean Training Dataframe"
   ]
  },
  {
   "cell_type": "code",
   "execution_count": null,
   "id": "fd9b7d3d",
   "metadata": {},
   "outputs": [],
   "source": [
    "#Load Dataset\n",
    "df = pd.read_csv('train_old.csv')\n",
    "\n",
    "\n",
    "df = df.fillna(False)\n",
    "df['ImageId'] = df['ImageId_ClassId'].apply(lambda x: x.split('_')[0])\n",
    "df['ClassId'] = df['ImageId_ClassId'].apply(lambda x: x.split('_')[1])\n",
    "df= df.drop(['ImageId_ClassId'],1)\n",
    "df = df[['ImageId','ClassId','EncodedPixels']].reset_index().drop(['index'],True)\n",
    "\n",
    "df_pivot = df.pivot('ImageId','ClassId','EncodedPixels')\n",
    "df_pivot_bool = df_pivot.astype(bool)\n",
    "all_classes = list(set(df['ClassId']))"
   ]
  },
  {
   "cell_type": "code",
   "execution_count": null,
   "id": "4ba75413-9478-4cef-9895-da988a805d91",
   "metadata": {},
   "outputs": [],
   "source": [
    "transform = transforms.Compose(\n",
    "        [transforms.Resize((256,1600)),\n",
    "         transforms.ToTensor()\n",
    "         ])\n",
    "df_pivot = pd.read_csv('train_pivot.csv')\n",
    "\n",
    "steelset = utils.SteelDataset(root_dir=\"train_images\",df=df_pivot,nr_classes = 4,transform = transform)\n",
    "dataloader = DataLoader(steelset,batch_size=12,shuffle='True')"
   ]
  },
  {
   "cell_type": "code",
   "execution_count": null,
   "id": "14290004",
   "metadata": {},
   "outputs": [],
   "source": [
    "imgs,masks,label = iter(dataloader).next()"
   ]
  },
  {
   "cell_type": "code",
   "execution_count": null,
   "id": "ec057522",
   "metadata": {},
   "outputs": [],
   "source": [
    "_ = utils.img_mask_overlay(imgs,masks,figsize=4,alpha=0.2)"
   ]
  },
  {
   "cell_type": "markdown",
   "id": "933ec612-09d3-487c-b2a1-dbf2973234ad",
   "metadata": {},
   "source": [
    "### How many Defect and non-Defect Images?"
   ]
  },
  {
   "cell_type": "code",
   "execution_count": null,
   "id": "b8241596-a02f-430b-8480-28a72af7c65b",
   "metadata": {},
   "outputs": [],
   "source": [
    "df_defect_count = df_pivot_bool.any(axis=1).replace(True,'defect').replace(False,'no defect').value_counts()\n",
    "\n",
    "sns.barplot(x=df_defect_count.index,y=df_defect_count.values)"
   ]
  },
  {
   "cell_type": "markdown",
   "id": "ef6ff54a-8286-4849-b13a-84e9b271afbc",
   "metadata": {},
   "source": [
    "### How many Occurences per Defect?"
   ]
  },
  {
   "cell_type": "code",
   "execution_count": null,
   "id": "4bb5180e-0ee0-4bba-b57a-b1645ddfc996",
   "metadata": {},
   "outputs": [],
   "source": [
    "df_defect_type_count = df_pivot_bool.sum(axis=0)\n",
    "\n",
    "sns.barplot(x=df_defect_type_count.index,y=df_defect_type_count.values)\n",
    "plt.title('Occurences per Defect')"
   ]
  },
  {
   "cell_type": "markdown",
   "id": "c39e5d88-5397-439e-9606-cbc1ee4a6b54",
   "metadata": {},
   "source": [
    "### How many Defects per Image?"
   ]
  },
  {
   "cell_type": "code",
   "execution_count": null,
   "id": "9e779407-d436-4fc7-818d-1b769c07e516",
   "metadata": {},
   "outputs": [],
   "source": [
    "df_pivot_num = df_pivot_bool.astype(int)\n",
    "df_defects_per_image = df_pivot_num.sum(axis=1).value_counts()\n",
    "\n",
    "sns.barplot(x=df_defects_per_image.index,y=df_defects_per_image.values)\n",
    "plt.title('How many defects are present in an image')"
   ]
  },
  {
   "cell_type": "markdown",
   "id": "e0392d94-acc4-4d94-ac26-3b54c0b4c86e",
   "metadata": {},
   "source": [
    "### How much area do the Defects span relative to the Image size?"
   ]
  },
  {
   "cell_type": "code",
   "execution_count": null,
   "id": "1208a3f0-3307-4a34-9a89-c8695fadf8a7",
   "metadata": {},
   "outputs": [],
   "source": [
    "#extract masks of all defects \n",
    "df_defect_only = df.drop(df[df['EncodedPixels']==False].index)\n",
    "masks = {i:[] for i in '1234'}\n",
    "for index,row in df_defect_only.iterrows():\n",
    "    mask = utils.rle2mask(row['EncodedPixels'])\n",
    "    mask_fraction = mask.sum()/(mask.shape[0]*mask.shape[1])\n",
    "    masks[row['ClassId']].append(mask_fraction)\n",
    "\n"
   ]
  },
  {
   "cell_type": "code",
   "execution_count": null,
   "id": "b3021ce2-ed06-4413-b9bc-91074cd2b7f4",
   "metadata": {},
   "outputs": [],
   "source": [
    "#plot defect histograms\n",
    "colordict = ColorDict()\n",
    "plt.figure(figsize=(5,10), dpi=80)\n",
    "#plt.subplots_adjust(hspace=5.000)\n",
    "number_of_subplots=4\n",
    "\n",
    "colorpalette = sns.color_palette()\n",
    "\n",
    "for i,v in enumerate(range(number_of_subplots)):\n",
    "    v = v+1\n",
    "    ax1 = plt.subplot(number_of_subplots,1,v)\n",
    "    ax1.hist(masks[str(i+1)],density=True,bins = 100,label=\"Defect {}\".format(str(i+1)),color=colorpalette[i])\n",
    "    ax1.set_xlim([0,0.2])\n",
    "    plt.legend()\n",
    "plt.show()"
   ]
  },
  {
   "cell_type": "markdown",
   "id": "2981966b-0ed4-44b4-9b8d-75b8cb657c80",
   "metadata": {},
   "source": [
    "### Defect 1 and Defect 2 are very small compared to defect 3 and 4 which can span large parts of the image"
   ]
  },
  {
   "cell_type": "markdown",
   "id": "e3ca7d53-8279-41d2-917f-5da61ef10308",
   "metadata": {},
   "source": [
    "### Images of Defect 1"
   ]
  },
  {
   "cell_type": "code",
   "execution_count": null,
   "id": "e6a011af-b9f8-44a6-9b6d-d1a1c9c23da2",
   "metadata": {},
   "outputs": [],
   "source": [
    "df_class1 = df_pivot.loc[df_pivot[\"1\"] != 'False']\n",
    "steelset_class1 = utils.SteelDataset(root_dir=\"train_images\",df=df_class1,nr_classes = 4,transform = transform)\n",
    "dataloader_class1 = DataLoader(steelset_class1,batch_size=12,shuffle='True')\n",
    "\n",
    "imgs_class1,masks_class1,labels = iter(dataloader_class1).next()\n",
    "\n"
   ]
  },
  {
   "cell_type": "code",
   "execution_count": null,
   "id": "597bb7f7-1a4d-4214-ba80-86cb101f8620",
   "metadata": {},
   "outputs": [],
   "source": [
    "def f(x):\n",
    "    utils.img_mask_overlay(imgs_class1,masks_class1,figsize=4,alpha=x)\n",
    "\n",
    "#interact(f,x=(0.0,1.0))\n",
    "#plt.show()\n",
    "\n",
    "f(0.5)"
   ]
  },
  {
   "cell_type": "markdown",
   "id": "2376e680-9396-4559-afce-9ce2eaeff3ff",
   "metadata": {},
   "source": [
    "### Images of Defect 2"
   ]
  },
  {
   "cell_type": "code",
   "execution_count": null,
   "id": "30e58548-d76b-4ea0-ada0-d101624fffbc",
   "metadata": {},
   "outputs": [],
   "source": [
    "df_class2 = df_pivot.loc[df_pivot[\"2\"] != 'False']\n",
    "steelset_class2 = utils.SteelDataset(root_dir=\"train_images\",df=df_class2,nr_classes = 4,transform = transform)\n",
    "dataloader_class2 = DataLoader(steelset_class2,batch_size=12,shuffle='True')\n",
    "\n",
    "imgs_class2,masks_class2,labels = iter(dataloader_class2).next()\n"
   ]
  },
  {
   "cell_type": "code",
   "execution_count": null,
   "id": "13d89015-9a66-4699-a262-57ea27bc6651",
   "metadata": {},
   "outputs": [],
   "source": [
    "def f(x):\n",
    "    utils.img_mask_overlay(imgs_class2,masks_class2,figsize=4,alpha=x)\n",
    "\n",
    "interact(f,x=(0.0,1.0))\n"
   ]
  },
  {
   "cell_type": "markdown",
   "id": "77004e08-1073-40e9-95c6-0434622932d5",
   "metadata": {},
   "source": [
    "### Images of Defect 3"
   ]
  },
  {
   "cell_type": "code",
   "execution_count": null,
   "id": "1ee8e618-3765-44e5-83f8-006fd3c37e46",
   "metadata": {},
   "outputs": [],
   "source": [
    "df_class3 = df_pivot.loc[df_pivot[\"3\"] != 'False']\n",
    "steelset_class3 = utils.SteelDataset(root_dir=\"train_images\",df=df_class3,nr_classes = 4,transform = transform)\n",
    "dataloader_class3 = DataLoader(steelset_class3,batch_size=12,shuffle='True')\n",
    "\n",
    "imgs_class3,masks_class3,_ = iter(dataloader_class3).next()\n"
   ]
  },
  {
   "cell_type": "code",
   "execution_count": null,
   "id": "34290190-d8f0-4144-ac6e-491bc85c80d8",
   "metadata": {},
   "outputs": [],
   "source": [
    "def f(x):\n",
    "    utils.img_mask_overlay(imgs_class3,masks_class3,figsize=4,alpha=x)\n",
    "\n",
    "interact(f,x=(0.0,1.0))"
   ]
  },
  {
   "cell_type": "markdown",
   "id": "881cdd5f-b30f-4261-8253-92b7b10fedc2",
   "metadata": {},
   "source": [
    "### Images of Defect 4"
   ]
  },
  {
   "cell_type": "code",
   "execution_count": null,
   "id": "6cc861a5-198c-426d-8b63-d8bb0286e66d",
   "metadata": {},
   "outputs": [],
   "source": [
    "df_class4 = df_pivot.loc[df_pivot[\"4\"] != 'False']\n",
    "steelset_class4 = utils.SteelDataset(root_dir=\"train_images\",df=df_class4,nr_classes = 4,transform = transform)\n",
    "dataloader_class4 = DataLoader(steelset_class4,batch_size=12,shuffle='True')\n",
    "\n",
    "imgs_class4,masks_class4,_ = iter(dataloader_class4).next()\n"
   ]
  },
  {
   "cell_type": "code",
   "execution_count": null,
   "id": "cb78d030-6833-454c-ad3c-13b711b8f1d8",
   "metadata": {},
   "outputs": [],
   "source": [
    "def f(x):\n",
    "    utils.img_mask_overlay(imgs_class4,masks_class4,figsize=4,alpha=x)\n",
    "\n",
    "interact(f,x=(0.0,1.0))"
   ]
  },
  {
   "cell_type": "markdown",
   "id": "e57149d4-70f1-456a-976e-b95b3deb2b53",
   "metadata": {},
   "source": [
    "### Ensure that Data can be Split reliably in Training and Validation Set"
   ]
  },
  {
   "cell_type": "code",
   "execution_count": 38,
   "id": "27ae2f50-ddaf-4073-b926-94ed2c741445",
   "metadata": {},
   "outputs": [
    {
     "data": {
      "image/png": "[encoded data removed]",
      "text/plain": [
       "<Figure size 432x288 with 2 Axes>"
      ]
     },
     "metadata": {},
     "output_type": "display_data"
    }
   ],
   "source": [
    "from sklearn.model_selection import train_test_split\n",
    "\n",
    "df_train,df_val = train_test_split(df_pivot_bool,train_size=0.95,test_size=0.05)\n",
    "\n",
    "df_train_defect_type_count = df_train.sum(axis=0)\n",
    "\n",
    "df_val_defect_type_count = df_val.sum(axis=0)\n",
    "\n",
    "dfs = [df_train_defect_type_count,df_val_defect_type_count]\n",
    "\n",
    "fig,axs = plt.subplots(1,2,squeeze=False)\n",
    "\n",
    "for idx,df in enumerate(dfs):\n",
    "    sns.barplot(x=df.index,y=df.values,ax=axs[0][idx])\n",
    "    plt.title('Occurences per Defect')"
   ]
  },
  {
   "cell_type": "code",
   "execution_count": 27,
   "id": "d0feddb9-8732-49f3-a084-e0498e7ed38c",
   "metadata": {},
   "outputs": [
    {
     "name": "stderr",
     "output_type": "stream",
     "text": [
      "/home/kil/anaconda3/lib/python3.8/site-packages/seaborn/_decorators.py:36: FutureWarning: Pass the following variables as keyword args: x, y. From version 0.12, the only valid positional argument will be `data`, and passing other arguments without an explicit keyword will result in an error or misinterpretation.\n",
      "  warnings.warn(\n",
      "/home/kil/anaconda3/lib/python3.8/site-packages/seaborn/_decorators.py:36: FutureWarning: Pass the following variables as keyword args: x, y. From version 0.12, the only valid positional argument will be `data`, and passing other arguments without an explicit keyword will result in an error or misinterpretation.\n",
      "  warnings.warn(\n",
      "/home/kil/anaconda3/lib/python3.8/site-packages/seaborn/_decorators.py:36: FutureWarning: Pass the following variables as keyword args: x, y. From version 0.12, the only valid positional argument will be `data`, and passing other arguments without an explicit keyword will result in an error or misinterpretation.\n",
      "  warnings.warn(\n"
     ]
    },
    {
     "data": {
      "image/png": "[encoded data removed]",
      "text/plain": [
       "<Figure size 864x216 with 3 Axes>"
      ]
     },
     "metadata": {
      "needs_background": "light"
     },
     "output_type": "display_data"
    }
   ],
   "source": [
    "import numpy as np\n",
    "import matplotlib.pyplot as plt\n",
    "import seaborn as sns\n",
    "\n",
    "nr_rows = 1\n",
    "nr_cols = 3\n",
    "\n",
    "cols_review = ['home_ownership', 'verification_status', 'loan_status']\n",
    "\n",
    "fig, axs = plt.subplots(nr_rows, nr_cols, figsize=(nr_cols*4,nr_rows*3), squeeze=False)\n",
    "\n",
    "for r in range(0,nr_rows):\n",
    "    for c in range(0, nr_cols):  \n",
    "        col = r*nr_cols+c\n",
    "        if col < len(cols_review):\n",
    "            x=np.random.rand(5) * 10\n",
    "            y=np.random.rand(5)\n",
    "            sns.set(style=\"darkgrid\")\n",
    "            sns.barplot(x, y, alpha=0.9,ax = axs[r][c])\n",
    "            plt.ylabel('Number of Occurrences', fontsize=12)\n",
    "            plt.xlabel(col, fontsize=12)\n",
    "plt.tight_layout()    \n",
    "plt.show()"
   ]
  },
  {
   "cell_type": "code",
   "execution_count": null,
   "id": "380787ba-ffe0-4b2a-adbb-7c22a4231614",
   "metadata": {},
   "outputs": [],
   "source": []
  }
 ],
 "metadata": {
  "kernelspec": {
   "display_name": "Python 3 (ipykernel)",
   "language": "python",
   "name": "python3"
  },
  "language_info": {
   "codemirror_mode": {
    "name": "ipython",
    "version": 3
   },
   "file_extension": ".py",
   "mimetype": "text/x-python",
   "name": "python",
   "nbconvert_exporter": "python",
   "pygments_lexer": "ipython3",
   "version": "3.8.8"
  }
 },
 "nbformat": 4,
 "nbformat_minor": 5
}
